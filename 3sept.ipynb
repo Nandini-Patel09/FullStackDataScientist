{
 "cells": [
  {
   "cell_type": "code",
   "execution_count": 1,
   "id": "d62f082e",
   "metadata": {},
   "outputs": [
    {
     "name": "stdout",
     "output_type": "stream",
     "text": [
      "Withdrawl Successfull\n"
     ]
    }
   ],
   "source": [
    "''' \n",
    "Build an ATM where users can withdraw money if they have sufficient balance, otherwise display “Insufficient Balance”.\n",
    "Handle PIN verification too.\n",
    "Sample Input:\n",
    "PIN = 1234\n",
    "Balance = 5000\n",
    "Withdraw = 2000\n",
    "Expected Output:\n",
    "PIN Verified.\n",
    "Withdrawal Successful. Remaining Balance = 3000\n",
    "'''\n",
    "\n",
    "balance=50000\n",
    "correct_pin = 6447\n",
    "pin=int(input(\"Enter your PIN : \"))\n",
    "if pin == correct_pin :\n",
    "    money=int(input(\"Enter money to withdraw : \"))\n",
    "    if money <= balance:\n",
    "        print(\"Withdrawl Successfull\")\n",
    "    else:\n",
    "        print(\"Insufficient Balance\")\n",
    "else:\n",
    "    print(\"Enter correct PIN\")"
   ]
  },
  {
   "cell_type": "code",
   "execution_count": 1,
   "id": "2a61f414",
   "metadata": {},
   "outputs": [
    {
     "name": "stdout",
     "output_type": "stream",
     "text": [
      "Not Prime\n"
     ]
    }
   ],
   "source": [
    "''' \n",
    "A security system checks whether the entered code is prime for extra authentication.\n",
    " Write a program to check if a given number is prime.\n",
    "'''\n",
    "num = int(input(\"Enter a number: \"))\n",
    "if num > 1:\n",
    "    for i in range(2, int(num ** 0.5) + 1):\n",
    "        if num % i == 0:\n",
    "            print(\"Not Prime\")\n",
    "            break\n",
    "    else:\n",
    "        print(\"Prime\")\n",
    "else:\n",
    "    print(\"Not Prime\")\n"
   ]
  },
  {
   "cell_type": "code",
   "execution_count": 2,
   "id": "868f601b",
   "metadata": {},
   "outputs": [
    {
     "name": "stdout",
     "output_type": "stream",
     "text": [
      "Highest score: 89\n"
     ]
    }
   ],
   "source": [
    "''' \n",
    "A gaming app wants to determine the highest score out of 5 attempts. \n",
    "Write a program to take 5 numbers as input and print the largest.\n",
    "'''\n",
    "scores = [int(input(f\"Enter score {i+1}: \")) for i in range(5)]\n",
    "print(\"Highest score:\", max(scores))\n"
   ]
  },
  {
   "cell_type": "code",
   "execution_count": 3,
   "id": "8c10f143",
   "metadata": {},
   "outputs": [
    {
     "name": "stdout",
     "output_type": "stream",
     "text": [
      "Palindrome\n"
     ]
    }
   ],
   "source": [
    "''' \n",
    "A healthcare app stores patient IDs and checks if they are palindromes for easy recall. \n",
    "Write a program that checks if a given string ID is a palindrome.\n",
    "'''\n",
    "id_str = input(\"Enter patient ID: \")\n",
    "if id_str == id_str[::-1]:\n",
    "    print(\"Palindrome\")\n",
    "else:\n",
    "    print(\"Not a Palindrome\")\n"
   ]
  },
  {
   "cell_type": "code",
   "execution_count": 4,
   "id": "562d62c4",
   "metadata": {},
   "outputs": [
    {
     "name": "stdout",
     "output_type": "stream",
     "text": [
      "Factorial: 120\n"
     ]
    }
   ],
   "source": [
    "''' \n",
    "A factory wants to calculate the number of ways workers can be arranged in a line.\n",
    " Write a program to find the factorial of a number\n",
    "'''\n",
    "num = int(input(\"Enter a number: \"))\n",
    "factorial = 1\n",
    "for i in range(1, num + 1):\n",
    "    factorial *= i\n",
    "print(\"Factorial:\", factorial)\n"
   ]
  },
  {
   "cell_type": "code",
   "execution_count": 5,
   "id": "86d6f89b",
   "metadata": {},
   "outputs": [
    {
     "name": "stdout",
     "output_type": "stream",
     "text": [
      "15 30 45 60 75 90 "
     ]
    }
   ],
   "source": [
    "''' \n",
    "A company gives rewards for numbers divisible by both 3 and 5.\n",
    " Write a program to print all numbers between 1 and 100 that qualify.\n",
    "'''\n",
    "for i in range(1, 101):\n",
    "    if i % 3 == 0 and i % 5 == 0:\n",
    "        print(i, end=\" \")\n"
   ]
  },
  {
   "cell_type": "code",
   "execution_count": 6,
   "id": "17a11b1f",
   "metadata": {},
   "outputs": [
    {
     "name": "stdout",
     "output_type": "stream",
     "text": [
      "Second largest: 80\n"
     ]
    }
   ],
   "source": [
    "''' \n",
    "In a class test, a teacher wants to know the second highest score among students.\n",
    " Write a program to find the second largest number in a list.\n",
    "'''\n",
    "numbers = list(map(int, input(\"Enter numbers separated by space: \").split()))\n",
    "numbers = list(set(numbers))  # to remove duplicates\n",
    "numbers.sort()\n",
    "if len(numbers) >= 2:\n",
    "    print(\"Second largest:\", numbers[-2])\n",
    "else:\n",
    "    print(\"Not enough numbers\")\n"
   ]
  },
  {
   "cell_type": "code",
   "execution_count": 8,
   "id": "e60f9bd9",
   "metadata": {},
   "outputs": [
    {
     "name": "stdout",
     "output_type": "stream",
     "text": [
      "Sum =  650\n"
     ]
    }
   ],
   "source": [
    "''' \n",
    "A fitness app counts only even-numbered steps to calculate “balanced walking.” \n",
    "Write a program to find the sum of even numbers from 1 to 50.\n",
    "'''\n",
    "sum=0\n",
    "for i in range(1,51):\n",
    "    if i%2==0 :\n",
    "        sum+=i\n",
    "print(\"Sum = \",sum)"
   ]
  },
  {
   "cell_type": "code",
   "execution_count": 10,
   "id": "d4e3bbde",
   "metadata": {},
   "outputs": [
    {
     "name": "stdout",
     "output_type": "stream",
     "text": [
      "uppercase characters =  6\n",
      "lowercase characters =  9\n"
     ]
    }
   ],
   "source": [
    "''' \n",
    "A typing speed test wants to know how many uppercase and lowercase letters a user typed.\n",
    " Write a program to count uppercase and lowercase characters in a string.\n",
    "'''\n",
    "text=input(\"Enter a String : \")\n",
    "upper=0\n",
    "lower=0\n",
    "for ch in text :\n",
    "    if ch.isupper():\n",
    "        upper+=1\n",
    "    elif ch.islower():\n",
    "        lower+=1\n",
    "print(\"uppercase characters = \" , upper)\n",
    "print(\"lowercase characters = \" , lower)"
   ]
  },
  {
   "cell_type": "code",
   "execution_count": 11,
   "id": "56074ab5",
   "metadata": {},
   "outputs": [
    {
     "name": "stdout",
     "output_type": "stream",
     "text": [
      "0 1 1 2 3 5 8 "
     ]
    }
   ],
   "source": [
    "''' \n",
    "A financial tool simulates Fibonacci-like growth in savings. \n",
    "Write a program to generate the Fibonacci sequence up to n terms.\n",
    "'''\n",
    "def fibonacci(n):\n",
    "    if n <= 1:\n",
    "        return n\n",
    "    else:\n",
    "        return fibonacci(n-1) + fibonacci(n-2)\n",
    "\n",
    "n = int(input(\"Enter number of terms: \"))\n",
    "for i in range(n):\n",
    "    print(fibonacci(i), end=\" \")\n"
   ]
  },
  {
   "cell_type": "code",
   "execution_count": 12,
   "id": "53fdf721",
   "metadata": {},
   "outputs": [
    {
     "name": "stdout",
     "output_type": "stream",
     "text": [
      "Anagrams\n"
     ]
    }
   ],
   "source": [
    "'''  \n",
    "A word puzzle game checks if two words are anagrams (same letters but shuffled). \n",
    "Write a program to check if two strings are anagrams.\n",
    "'''\n",
    "str1 = input(\"Enter first word: \").lower()\n",
    "str2 = input(\"Enter second word: \").lower()\n",
    "if sorted(str1) == sorted(str2):\n",
    "    print(\"Anagrams\")\n",
    "else:\n",
    "    print(\"Not Anagrams\")\n"
   ]
  },
  {
   "cell_type": "code",
   "execution_count": 16,
   "id": "7be2bf78",
   "metadata": {},
   "outputs": [
    {
     "name": "stdout",
     "output_type": "stream",
     "text": [
      "Perfect Number\n"
     ]
    }
   ],
   "source": [
    "'''  \n",
    "A science experiment needs to verify whether a number is perfect (sum of divisors = number). \n",
    "Write a program to check if a number is a perfect number.\n",
    "'''\n",
    "num=int(input(\"Enter a number : \"))\n",
    "div_sum=0\n",
    "for i in range(1,num):\n",
    "    if num%i==0 :\n",
    "        div_sum+=i\n",
    "if div_sum==num:\n",
    "    print(\"Perfect Number\")\n",
    "else:\n",
    "    print(\"Not a Perfect Number\")\n"
   ]
  },
  {
   "cell_type": "code",
   "execution_count": null,
   "id": "a237a23c",
   "metadata": {},
   "outputs": [],
   "source": []
  }
 ],
 "metadata": {
  "kernelspec": {
   "display_name": "Python 3",
   "language": "python",
   "name": "python3"
  },
  "language_info": {
   "codemirror_mode": {
    "name": "ipython",
    "version": 3
   },
   "file_extension": ".py",
   "mimetype": "text/x-python",
   "name": "python",
   "nbconvert_exporter": "python",
   "pygments_lexer": "ipython3",
   "version": "3.11.13"
  }
 },
 "nbformat": 4,
 "nbformat_minor": 5
}
