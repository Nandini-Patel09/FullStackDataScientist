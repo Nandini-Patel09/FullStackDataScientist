{
 "cells": [
  {
   "cell_type": "code",
   "execution_count": 78,
   "id": "9763ab01",
   "metadata": {},
   "outputs": [
    {
     "name": "stdout",
     "output_type": "stream",
     "text": [
      "Total words: 5\n"
     ]
    }
   ],
   "source": [
    "'''\n",
    "1. Problem: Given a text file, count the total number of words.\n",
    "'''\n",
    "def total_words(filename):\n",
    "    with open(filename, \"r\") as f:\n",
    "        text = f.read()\n",
    "    words = text.split()\n",
    "    return len(words)\n",
    "\n",
    "with open(\"sample.txt\", \"w\") as f:\n",
    "    f.write(\"hello world. welcome to python\")\n",
    "\n",
    "print(\"Total words:\", total_words(\"sample.txt\"))\n"
   ]
  },
  {
   "cell_type": "code",
   "execution_count": 79,
   "id": "19e3569d",
   "metadata": {},
   "outputs": [
    {
     "name": "stdout",
     "output_type": "stream",
     "text": [
      "True\n",
      "False\n"
     ]
    }
   ],
   "source": [
    "'''\n",
    "2. Problem: Write a program to check if a password is strong \n",
    "(at least 8 characters, contains uppercase, lowercase, digit, and special char).\n",
    "'''\n",
    "def passwordStrong(pwd):\n",
    "    length=len(pwd)>=8\n",
    "    upper=any(ch.isupper() for ch in pwd)\n",
    "    lower=any(ch.islower() for ch in pwd)\n",
    "    digit=any(ch.isdigit() for ch in pwd)\n",
    "    special=any(ch in string.punctuation for ch in pwd)\n",
    "    if length and upper and lower and digit and special:\n",
    "        return True\n",
    "    return False\n",
    "print(passwordStrong(\"Abc123!@\"))   \n",
    "print(passwordStrong(\"password\"))\n"
   ]
  },
  {
   "cell_type": "code",
   "execution_count": 80,
   "id": "384b7456",
   "metadata": {},
   "outputs": [
    {
     "name": "stdout",
     "output_type": "stream",
     "text": [
      "30\n",
      "10\n",
      "200\n",
      "2.0\n"
     ]
    }
   ],
   "source": [
    "'''\n",
    "3. Problem: Implement a calculator with +, -, *, / operations.\n",
    "'''\n",
    "def calculator(a,b,op):\n",
    "    if op == '+':\n",
    "        return a+b\n",
    "    elif op == '-':\n",
    "        return a-b\n",
    "    elif op == '*':\n",
    "        return a*b\n",
    "    elif op == '/':\n",
    "        if b!=0:\n",
    "            return a/b\n",
    "        else:\n",
    "            print(\"Division not possible\")\n",
    "    else:\n",
    "        print(\"Invalid Operator\")\n",
    "print(calculator(20,10,'+'))\n",
    "print(calculator(20,10,'-'))\n",
    "print(calculator(20,10,'*'))\n",
    "print(calculator(20,10,'/'))\n"
   ]
  },
  {
   "cell_type": "code",
   "execution_count": 82,
   "id": "da5d86b6",
   "metadata": {},
   "outputs": [
    {
     "name": "stdout",
     "output_type": "stream",
     "text": [
      "['valli', 'nandini']\n"
     ]
    }
   ],
   "source": [
    "'''\n",
    "4. Problem: Given a list of student names, find duplicates.\n",
    "'''\n",
    "def duplicate(names):\n",
    "    stu_list=[]\n",
    "    dup=[]\n",
    "    for name in names:\n",
    "        if name in stu_list:\n",
    "            dup.append(name)\n",
    "        else:\n",
    "            stu_list.append(name)\n",
    "    return (dup)\n",
    "students=['nandini','sreeja','valli','shradha','valli','nandini']\n",
    "print(duplicate(students))"
   ]
  },
  {
   "cell_type": "code",
   "execution_count": 83,
   "id": "a2cae433",
   "metadata": {},
   "outputs": [
    {
     "name": "stdout",
     "output_type": "stream",
     "text": [
      "89.6\n",
      "37.22222222222222\n"
     ]
    }
   ],
   "source": [
    "'''\n",
    "5. Problem: Convert between Celsius and Fahrenheit.\n",
    "'''\n",
    "def convert(c):\n",
    "    return (c*9/5)+32\n",
    "def convertToFah(f):\n",
    "    return (f-32)*5/9\n",
    "print(convert(32))\n",
    "print(convertToFah(99))"
   ]
  },
  {
   "cell_type": "code",
   "execution_count": 84,
   "id": "ee01f34a",
   "metadata": {},
   "outputs": [
    {
     "name": "stdout",
     "output_type": "stream",
     "text": [
      "100\n"
     ]
    }
   ],
   "source": [
    "'''\n",
    "6. Problem: Find the largest number from a list of integers.\n",
    "'''\n",
    "list=[100,56,23,78,10]\n",
    "print(max(list))\n"
   ]
  },
  {
   "cell_type": "code",
   "execution_count": 85,
   "id": "8f54a153",
   "metadata": {},
   "outputs": [
    {
     "name": "stdout",
     "output_type": "stream",
     "text": [
      "500.0\n"
     ]
    }
   ],
   "source": [
    "'''\n",
    "7. Problem: Calculate Simple Interest.\n",
    "'''\n",
    "def SimpleInterest(principle,rate,time):\n",
    "    return principle*rate*time/100\n",
    "print(SimpleInterest(5000,5,2))\n"
   ]
  },
  {
   "cell_type": "code",
   "execution_count": 86,
   "id": "a8c710cf",
   "metadata": {},
   "outputs": [
    {
     "name": "stdout",
     "output_type": "stream",
     "text": [
      "{'akshaya': 65, 'akshay': 55}\n"
     ]
    }
   ],
   "source": [
    "'''\n",
    "8. Problem: Given a dictionary of student names and attendance %, find defaulters (<75%).\n",
    "'''\n",
    "students={\"nandini\":80,\"akshaya\":65,\"pooja\":90,\"akshay\":55}\n",
    "defaulters={}\n",
    "for name ,attendance in students.items():\n",
    "    if attendance<75:\n",
    "        defaulters[name]=attendance\n",
    "print(defaulters)"
   ]
  },
  {
   "cell_type": "code",
   "execution_count": 87,
   "id": "b45ebc0e",
   "metadata": {},
   "outputs": [
    {
     "name": "stdout",
     "output_type": "stream",
     "text": [
      "10\n"
     ]
    }
   ],
   "source": [
    "'''\n",
    "9. Problem: Input: 1234 → Output: 10\n",
    "'''\n",
    "num=1234\n",
    "sum=0\n",
    "digits=0\n",
    "while num>0:\n",
    "    digits=num%10\n",
    "    sum+=digits\n",
    "    num=num//10\n",
    "print(sum)"
   ]
  },
  {
   "cell_type": "code",
   "execution_count": 88,
   "id": "fc0ef00c",
   "metadata": {},
   "outputs": [
    {
     "name": "stdout",
     "output_type": "stream",
     "text": [
      "True\n",
      "False\n"
     ]
    }
   ],
   "source": [
    "'''\n",
    "10. Problem: Write a function to check if a number is prime.\n",
    "'''\n",
    "def is_prime(n):\n",
    "    if n<=1:\n",
    "        return False\n",
    "    for i in range(2,int(n**0.5)+1):\n",
    "        if n%i==0:\n",
    "            return False\n",
    "    return True\n",
    "print(is_prime(5))\n",
    "print(is_prime(9))"
   ]
  },
  {
   "cell_type": "code",
   "execution_count": 89,
   "id": "95169d26",
   "metadata": {},
   "outputs": [
    {
     "name": "stdout",
     "output_type": "stream",
     "text": [
      "104\n",
      "12\n"
     ]
    }
   ],
   "source": [
    "'''\n",
    "11. Problem: Find smallest and largest numbers from a list.\n",
    "'''\n",
    "list=[12,45,87,99,104]\n",
    "print(max(list))\n",
    "print(min(list))"
   ]
  },
  {
   "cell_type": "code",
   "execution_count": 92,
   "id": "824c5e32",
   "metadata": {},
   "outputs": [],
   "source": [
    "del sum"
   ]
  },
  {
   "cell_type": "code",
   "execution_count": null,
   "id": "4e67cce2",
   "metadata": {},
   "outputs": [
    {
     "name": "stdout",
     "output_type": "stream",
     "text": [
      "Total Bill = 1080\n"
     ]
    }
   ],
   "source": [
    "'''\n",
    "12. Problem: Given items with prices in a dictionary, calculate total bill.\n",
    "\n",
    "'''\n",
    "cart = {\"Book\": 80, \"Pen\": 100, \"Bag\": 900}\n",
    "\n",
    "def cal_bill(items):\n",
    "    return sum(items.values())  \n",
    "\n",
    "print(\"Total Bill =\", cal_bill(cart))\n"
   ]
  },
  {
   "cell_type": "code",
   "execution_count": 94,
   "id": "9660112a",
   "metadata": {},
   "outputs": [
    {
     "name": "stdout",
     "output_type": "stream",
     "text": [
      "99\n"
     ]
    }
   ],
   "source": [
    "'''\n",
    "13. Problem: Input 3 numbers, print the largest.\n",
    "'''\n",
    "n=10\n",
    "n1=99\n",
    "n2=88\n",
    "print(max(n,n1,n2))\n"
   ]
  },
  {
   "cell_type": "code",
   "execution_count": 96,
   "id": "1324b8f5",
   "metadata": {},
   "outputs": [
    {
     "name": "stdout",
     "output_type": "stream",
     "text": [
      "{'h': 1, 'e': 1, 'l': 2, 'o': 1}\n"
     ]
    }
   ],
   "source": [
    "'''\n",
    "14. Problem: Count how many times each character appears in a string.\n",
    "'''\n",
    "str=\"hello\"\n",
    "freq={}\n",
    "for ch in str:\n",
    "    if ch in freq:\n",
    "        freq[ch]+=1\n",
    "    else:\n",
    "        freq[ch]=1\n",
    "print(freq)"
   ]
  },
  {
   "cell_type": "code",
   "execution_count": 98,
   "id": "8ab42b13",
   "metadata": {},
   "outputs": [
    {
     "name": "stdout",
     "output_type": "stream",
     "text": [
      "250\n",
      "850\n",
      "1700\n"
     ]
    }
   ],
   "source": [
    "'''\n",
    "15. Problem: Calculate electricity bill:\n",
    "First 100 units → ₹5/unit\n",
    "Next 100 units → ₹7/unit\n",
    "Above 200 units → ₹10/unit\n",
    "'''\n",
    "def elec_bill(units):\n",
    "    if units<=100:\n",
    "        bill=units*5\n",
    "    elif units>100 and units<=200:\n",
    "        bill=100*5+(units-100)*7\n",
    "    elif units>=200:\n",
    "        bill=100*5+100*7+(units-200)*10\n",
    "    return bill\n",
    "print(elec_bill(50))\n",
    "print(elec_bill(150))\n",
    "print(elec_bill(250))"
   ]
  },
  {
   "cell_type": "code",
   "execution_count": 101,
   "id": "968434c2",
   "metadata": {},
   "outputs": [
    {
     "name": "stdout",
     "output_type": "stream",
     "text": [
      "['ashwitha', 'nandini', 'sathvika', 'varshitha']\n"
     ]
    }
   ],
   "source": [
    "'''\n",
    "16. Problem: Sort a list of names in ascending order.\n",
    "'''\n",
    "names=[\"nandini\",\"sathvika\",\"ashwitha\",\"varshitha\"]\n",
    "print(sorted(names))"
   ]
  },
  {
   "cell_type": "code",
   "execution_count": 104,
   "id": "c936e5e4",
   "metadata": {},
   "outputs": [
    {
     "name": "stdout",
     "output_type": "stream",
     "text": [
      "4321\n"
     ]
    }
   ],
   "source": [
    "'''\n",
    "17. Problem: Input: 1234 → Output: 4321\n",
    "'''\n",
    "def reverse_number(n):\n",
    "    rev = 0\n",
    "    while n > 0:\n",
    "        digit = n % 10         \n",
    "        rev = rev * 10 + digit \n",
    "        n = n // 10            \n",
    "    return rev\n",
    "\n",
    "num = 1234\n",
    "print(reverse_number(num))\n"
   ]
  },
  {
   "cell_type": "code",
   "execution_count": 106,
   "id": "4317d002",
   "metadata": {},
   "outputs": [
    {
     "name": "stdout",
     "output_type": "stream",
     "text": [
      "Positive Numbers =  3\n",
      "Negative Numbers =  2\n",
      "Zeros Numbers =  2\n"
     ]
    }
   ],
   "source": [
    "'''\n",
    "18. Problem: Given a list, count positive, negative, and zero numbers.\n",
    "'''\n",
    "nums=[10,-87,0,33,0,-3,77]\n",
    "pos=0\n",
    "neg=0\n",
    "zero=0\n",
    "for i in nums:\n",
    "    if i>0:\n",
    "        pos+=1\n",
    "    elif i<0:\n",
    "        neg+=1\n",
    "    elif i==0:\n",
    "        zero+=1\n",
    "    \n",
    "print(\"Positive Numbers = \",pos)\n",
    "print(\"Negative Numbers = \",neg)\n",
    "print(\"Zeros Numbers = \",zero)"
   ]
  },
  {
   "cell_type": "code",
   "execution_count": 18,
   "id": "44274f00",
   "metadata": {},
   "outputs": [
    {
     "name": "stdout",
     "output_type": "stream",
     "text": [
      "Incorrect PIN. You have 2 attempt(s) left.\n",
      "Incorrect PIN. You have 1 attempt(s) left.\n",
      "Too many incorrect attempts. Access Denied.\n"
     ]
    }
   ],
   "source": [
    "'''\n",
    "19. Problem: User has 3 attempts to enter correct PIN.\n",
    "'''\n",
    "\n",
    "correct_pin = 6447\n",
    "\n",
    "attempts = 3\n",
    "\n",
    "while attempts > 0:\n",
    "    entered_pin = input(\"Enter your PIN: \")\n",
    "\n",
    "    if entered_pin == correct_pin:\n",
    "        print(\"PIN Verified. Access Granted.\")\n",
    "        break\n",
    "    else:\n",
    "        attempts -= 1\n",
    "        if attempts > 0:\n",
    "            print(f\"Incorrect PIN. You have {attempts} attempt(s) left.\")\n",
    "        else:\n",
    "            print(\"Too many incorrect attempts. Access Denied.\")\n",
    "\n",
    "    "
   ]
  },
  {
   "cell_type": "code",
   "execution_count": null,
   "id": "6d2d6ba0",
   "metadata": {},
   "outputs": [
    {
     "name": "stdout",
     "output_type": "stream",
     "text": [
      "0.0\n"
     ]
    }
   ],
   "source": [
    "''' \n",
    "20. Problem: Write a program that asks for two numbers and divides them. Handle division by zero.\n",
    "'''\n",
    "try:\n",
    "    num1=float(input(\"Enter number 1 : \"))\n",
    "    num2=float(input(\"Enter number 2 : \"))\n",
    "    res=num1/num2\n",
    "    print(res)\n",
    "except ZeroDivisionError:\n",
    "    print(\"Division by Zero is not allowed\")"
   ]
  },
  {
   "cell_type": "code",
   "execution_count": 11,
   "id": "5aaf7e29",
   "metadata": {},
   "outputs": [
    {
     "name": "stdout",
     "output_type": "stream",
     "text": [
      "Enter valid numbers\n"
     ]
    }
   ],
   "source": [
    "''' \n",
    "21. Problem: Write a program that handles both ValueError (invalid input) and ZeroDivisionError.\n",
    "'''\n",
    "try:\n",
    "    num1=float(input(\"Enter number 1 : \"))\n",
    "    num2=float(input(\"Enter number 2 : \"))\n",
    "    res=num1/num2\n",
    "    print(res)\n",
    "except ZeroDivisionError:\n",
    "    print(\"Division by Zero is not allowed\")\n",
    "except ValueError:\n",
    "    print(\"Enter valid numbers\")"
   ]
  },
  {
   "cell_type": "code",
   "execution_count": 13,
   "id": "529e3163",
   "metadata": {},
   "outputs": [
    {
     "name": "stdout",
     "output_type": "stream",
     "text": [
      "Transaction Failed \n"
     ]
    }
   ],
   "source": [
    "''' \n",
    "22. Problem: If withdrawal amount is greater than balance, raise an exception.\n",
    "'''\n",
    "class InsuffientFundsError(Exception):\n",
    "    pass\n",
    "try:\n",
    "    balance=5000\n",
    "    withdraw=int(input(\"Enter amount to withdraw : \"))\n",
    "    if withdraw > balance :\n",
    "        raise InsuffientFundsError  \n",
    "    else :\n",
    "        print(\"Withdraw successful\")\n",
    "except InsuffientFundsError as e:\n",
    "    print(\"Transaction Failed\" , e)"
   ]
  },
  {
   "cell_type": "code",
   "execution_count": 14,
   "id": "0a0f2ef4",
   "metadata": {},
   "outputs": [
    {
     "name": "stdout",
     "output_type": "stream",
     "text": [
      "Total Price: ₹ 850\n",
      "Bill processing finished.\n"
     ]
    }
   ],
   "source": [
    "''' \n",
    "23. Problem: Calculate total price, handle invalid input, and always show \"Bill processing finished\".\n",
    "\t•\tFirst 100 units → ₹5/unit\n",
    "\t•\tNext 100 units → ₹7/unit\n",
    "\t•\tAbove 200 units → ₹10/unit\n",
    "'''\n",
    "\n",
    "try:\n",
    "    units = int(input(\"Enter total units consumed: \"))\n",
    "\n",
    "    if units <= 100:\n",
    "        total_price = units * 5\n",
    "    elif units <= 200:\n",
    "        total_price = (100 * 5) + ((units - 100) * 7)\n",
    "    else:\n",
    "        total_price = (100 * 5) + (100 * 7) + ((units - 200) * 10)\n",
    "\n",
    "    print(\"Total Price: ₹\", total_price)\n",
    "\n",
    "except ValueError:\n",
    "    print(\"Please enter a valid integer for units.\")\n",
    "\n",
    "finally:\n",
    "    print(\"Bill processing finished.\")\n"
   ]
  },
  {
   "cell_type": "code",
   "execution_count": null,
   "id": "a7cfdea3",
   "metadata": {},
   "outputs": [],
   "source": []
  }
 ],
 "metadata": {
  "kernelspec": {
   "display_name": "Python 3",
   "language": "python",
   "name": "python3"
  },
  "language_info": {
   "codemirror_mode": {
    "name": "ipython",
    "version": 3
   },
   "file_extension": ".py",
   "mimetype": "text/x-python",
   "name": "python",
   "nbconvert_exporter": "python",
   "pygments_lexer": "ipython3",
   "version": "3.11.13"
  }
 },
 "nbformat": 4,
 "nbformat_minor": 5
}
