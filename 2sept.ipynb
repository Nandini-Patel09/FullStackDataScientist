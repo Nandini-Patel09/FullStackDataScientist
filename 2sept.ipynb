{
 "cells": [
  {
   "cell_type": "code",
   "execution_count": null,
   "id": "28f709b8",
   "metadata": {},
   "outputs": [
    {
     "name": "stdout",
     "output_type": "stream",
     "text": [
      "Total = (50*2)+(50*1)+(25*1) = 100+50+75= 225\n"
     ]
    }
   ],
   "source": [
    "'''\n",
    "1 Scenario: A grocery shopkeeper wants to calculate the bill of 3 items. Prices and quantities should be stored\n",
    "in variables, and the program should display the total cost.\n",
    "Sample Input:\n",
    "Item1 Price: 50, Quantity: 2\n",
    "Item2 Price: 30, Quantity: 5\n",
    "Item3 Price: 20, Quantity: 3\n",
    "Expected Output:\n",
    "Total Bill = (50*2) + (30*5) + (20*3) = 100 + 150 + 60 = 310\n",
    "'''\n",
    "\n",
    "item1_price=50\n",
    "item1_quantity=2\n",
    "\n",
    "item2_price=50\n",
    "item2_quantity=1\n",
    "\n",
    "item3_price=25\n",
    "item3_quantity=3\n",
    "\n",
    "Total=(item1_price*item1_quantity)+(item2_price*item2_quantity)+(item3_price*item3_quantity)\n",
    "\n",
    "print(\"Total = ({}*{})+({}*{})+({}*{}) = {}+{}+{}= {}\".format(\n",
    "    item1_price,item1_quantity,\n",
    "    item2_price,item2_quantity,\n",
    "    item3_price,item2_quantity,\n",
    "    item1_price*item1_quantity,\n",
    "    item2_price*item2_quantity,\n",
    "    item3_price*item3_quantity,\n",
    "    Total\n",
    "))\n"
   ]
  },
  {
   "cell_type": "code",
   "execution_count": null,
   "id": "6d4fcfb1",
   "metadata": {},
   "outputs": [
    {
     "name": "stdout",
     "output_type": "stream",
     "text": [
      "Addition =  30\n",
      "Subtraction =  10\n",
      "Multiplication =  200\n",
      "Division =  2.0\n",
      "Modulus =  0\n"
     ]
    }
   ],
   "source": [
    "'''\n",
    "2 Build a calculator that takes two numbers and performs addition, subtraction, multiplication, division, and modulus.\n",
    "Sample Input:\n",
    "Enter first number: 15\n",
    "Enter second number: 4\n",
    "Expected Output:\n",
    "Addition = 19\n",
    "Subtraction = 11\n",
    "Multiplication = 60\n",
    "Division = 3.75\n",
    "Modulus = 3\n",
    "'''\n",
    "\n",
    "num1=int(input(\"Enter First Number : \"))\n",
    "num2=int(input(\"Enter Second Number : \"))\n",
    "\n",
    "print(\"Addition = \" , num1+num2)\n",
    "print(\"Subtraction = \" , num1-num2)\n",
    "print(\"Multiplication = \" , num1*num2)\n",
    "print(\"Division = \" , num1/num2)\n",
    "print(\"Modulus = \", num1%num2)"
   ]
  },
  {
   "cell_type": "code",
   "execution_count": null,
   "id": "2b9a9426",
   "metadata": {},
   "outputs": [
    {
     "name": "stdout",
     "output_type": "stream",
     "text": [
      "Grade : A+\n"
     ]
    }
   ],
   "source": [
    "'''\n",
    "3 A teacher wants a grading system where marks are input, and the grade is displayed.\n",
    "Sample Input:\n",
    "Enter marks: 82\n",
    "Expected Output:\n",
    "Grade: A (Excellent)\n",
    "(Rules: >=90 → A+, 80–89 → A, 70–79 → B, 60–69 → C, <60 → Fail)\n",
    "'''\n",
    "\n",
    "marks=int(input(\"Enter Marks : \"))\n",
    "\n",
    "if marks>=90 :\n",
    "    print(\"Grade : A+\")\n",
    "elif marks>=80 and marks<90 :\n",
    "    print(\"Grade : A\")\n",
    "elif marks>=70 and marks<80 :\n",
    "    print(\"Grade : B\")\n",
    "elif marks>=60 and marks<70 :\n",
    "    print(\"Grade : C\")\n",
    "elif marks<60 :\n",
    "    print(\"Fail\")"
   ]
  },
  {
   "cell_type": "code",
   "execution_count": null,
   "id": "ed2dcf4c",
   "metadata": {},
   "outputs": [
    {
     "name": "stdout",
     "output_type": "stream",
     "text": [
      "Highest Marks =  28\n",
      "Lowest Marks =  21\n",
      "Average Marks =  25.4\n"
     ]
    }
   ],
   "source": [
    "'''\n",
    "4 Student Marks List\n",
    "Scenario: Store marks of 5 students in a list. Display the highest, lowest, and average marks.\n",
    "Sample Input:\n",
    "Marks: [45, 78, 88, 56, 90]\n",
    "Expected Output:\n",
    "Highest Marks = 90\n",
    "Lowest Marks = 45\n",
    "Average Marks = 71.4\n",
    "'''\n",
    "\n",
    "marks=[25,27,28,21,26]\n",
    "\n",
    "print(\"Highest Marks = \" , max(marks))\n",
    "print(\"Lowest Marks = \" , min(marks))\n",
    "print(\"Average Marks = \" , sum(marks)/5)\n"
   ]
  },
  {
   "cell_type": "code",
   "execution_count": null,
   "id": "4aa0fb63",
   "metadata": {},
   "outputs": [
    {
     "name": "stdout",
     "output_type": "stream",
     "text": [
      "Phone Number of  Suhel  :  9876543210\n"
     ]
    }
   ],
   "source": [
    "'''\n",
    "5 Create a phonebook using a dictionary where names are keys and numbers are values.\n",
    "Allow searching for a number by name.\n",
    "Sample Input:\n",
    "Phonebook = {\"Suhel\": 9876543210, \"Ravi\": 9123456780, \"Anita\": 9988776655}\n",
    "Search Name: Ravi\n",
    "Expected Output:\n",
    "Phone Number of Ravi: 9123456780\n",
    "'''\n",
    "Phonebook = {\"Suhel\": 9876543210, \"Ravi\": 9123456780, \"Anita\": 9988776655}\n",
    "search=str(input())\n",
    "\n",
    "if search in Phonebook:\n",
    "    print(\"Phone Number of \" , search ,\" : \" ,Phonebook[search])"
   ]
  },
  {
   "cell_type": "code",
   "execution_count": null,
   "id": "a479ea25",
   "metadata": {},
   "outputs": [
    {
     "ename": "NameError",
     "evalue": "name 'count' is not defined",
     "output_type": "error",
     "traceback": [
      "\u001b[31m---------------------------------------------------------------------------\u001b[39m",
      "\u001b[31mNameError\u001b[39m                                 Traceback (most recent call last)",
      "\u001b[36mCell\u001b[39m\u001b[36m \u001b[39m\u001b[32mIn[31]\u001b[39m\u001b[32m, line 12\u001b[39m\n\u001b[32m      1\u001b[39m \u001b[33;03m'''\u001b[39;00m\n\u001b[32m      2\u001b[39m \u001b[33;03m6 Write a program to count the number of words, characters, and vowels in a sentence. \u001b[39;00m\n\u001b[32m      3\u001b[39m \u001b[33;03mSample Input:\u001b[39;00m\n\u001b[32m   (...)\u001b[39m\u001b[32m      8\u001b[39m \u001b[33;03mTotal Vowels = 6\u001b[39;00m\n\u001b[32m      9\u001b[39m \u001b[33;03m'''\u001b[39;00m\n\u001b[32m     11\u001b[39m str_in=\u001b[38;5;28mstr\u001b[39m(\u001b[38;5;28minput\u001b[39m(\u001b[33m\"\u001b[39m\u001b[33mEnter Sentence : \u001b[39m\u001b[33m\"\u001b[39m))\n\u001b[32m---> \u001b[39m\u001b[32m12\u001b[39m \u001b[38;5;28mprint\u001b[39m(count(str_in.split()))\n",
      "\u001b[31mNameError\u001b[39m: name 'count' is not defined"
     ]
    }
   ],
   "source": [
    "'''\n",
    "6 Write a program to count the number of words, characters, and vowels in a sentence. \n",
    "Sample Input:\n",
    "Enter sentence: \"Python is awesome\"\n",
    "Expected Output:\n",
    "Total Words = 3\n",
    "Total Characters = 16\n",
    "Total Vowels = 6\n",
    "'''\n",
    "\n",
    "str_in=str(input(\"Enter Sentence : \"))\n",
    "words=str_in.split()\n",
    "print(count(words))"
   ]
  },
  {
   "cell_type": "code",
   "execution_count": null,
   "id": "1f297151",
   "metadata": {},
   "outputs": [],
   "source": []
  }
 ],
 "metadata": {
  "kernelspec": {
   "display_name": "Python 3",
   "language": "python",
   "name": "python3"
  },
  "language_info": {
   "codemirror_mode": {
    "name": "ipython",
    "version": 3
   },
   "file_extension": ".py",
   "mimetype": "text/x-python",
   "name": "python",
   "nbconvert_exporter": "python",
   "pygments_lexer": "ipython3",
   "version": "3.11.13"
  }
 },
 "nbformat": 4,
 "nbformat_minor": 5
}
