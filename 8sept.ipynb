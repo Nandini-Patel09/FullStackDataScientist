{
 "cells": [
  {
   "cell_type": "code",
   "execution_count": null,
   "id": "53ea7794",
   "metadata": {},
   "outputs": [
    {
     "name": "stdout",
     "output_type": "stream",
     "text": [
      "[2, 3, 5, 7, 11, 13, 17, 19]\n"
     ]
    }
   ],
   "source": [
    "'''\n",
    "1. Prime Number Finder\n",
    "   * Function that returns all prime numbers up to `n`.\n",
    "   * Input: `n = 20`\n",
    "   * Output: `[2, 3, 5, 7, 11, 13, 17, 19]`\n",
    "'''\n",
    "def prime_numbers_up_to(n):\n",
    "    primes = []\n",
    "    for num in range(2, n + 1):  \n",
    "        is_prime = True\n",
    "        for i in range(2, int(num**0.5) + 1):  \n",
    "            if num % i == 0:\n",
    "                is_prime = False\n",
    "                break\n",
    "        if is_prime:\n",
    "            primes.append(num)\n",
    "    return primes\n",
    "print(prime_numbers_up_to(20))\n"
   ]
  },
  {
   "cell_type": "code",
   "execution_count": 16,
   "id": "11e9d2d2",
   "metadata": {},
   "outputs": [
    {
     "name": "stdout",
     "output_type": "stream",
     "text": [
      "True\n"
     ]
    }
   ],
   "source": [
    "'''\n",
    "2. Palindrome Checker\n",
    "   * Check if a string is palindrome (ignoring spaces & case).\n",
    "   * Input: `\"Never odd or even\"`\n",
    "   * Output: `True`\n",
    "'''\n",
    "def palindrome(s):\n",
    "    ch=s.replace(\" \",\"\").lower()\n",
    "    if ch==ch[: : -1]:\n",
    "        return True\n",
    "    else:\n",
    "        return False\n",
    "print(palindrome(\"Never odd or even\"))"
   ]
  },
  {
   "cell_type": "code",
   "execution_count": 17,
   "id": "42a22b47",
   "metadata": {},
   "outputs": [
    {
     "name": "stdout",
     "output_type": "stream",
     "text": [
      "True\n"
     ]
    }
   ],
   "source": [
    "'''\n",
    "3. Anagram Checker\n",
    "   * Function checks if two words are anagrams.\n",
    "   * Input: `\"listen\", \"silent\"`\n",
    "   * Output: `True` \n",
    "'''\n",
    "def anagrams(s,s1):\n",
    "    if sorted(s)==sorted(s1):\n",
    "        return True\n",
    "    else:\n",
    "        return False\n",
    "print(anagrams(\"listen\",\"silent\"))"
   ]
  },
  {
   "cell_type": "code",
   "execution_count": null,
   "id": "592e6e88",
   "metadata": {},
   "outputs": [
    {
     "name": "stdout",
     "output_type": "stream",
     "text": [
      "Vowels = 2\n",
      "Consonants = 3\n"
     ]
    }
   ],
   "source": [
    "'''\n",
    "4. Count Vowels & Consonants\n",
    "   * Return count of vowels & consonants.\n",
    "   * Input: `\"hello\"`\n",
    "   * Output: `Vowels=2, Consonants=3`\n",
    "'''\n",
    "def count(s):\n",
    "    vowels = ['a', 'e', 'i', 'o', 'u']\n",
    "    vc = 0\n",
    "    cc = 0\n",
    "\n",
    "    for ch in s.lower():\n",
    "        if ch.isalpha():   \n",
    "            if ch in vowels:\n",
    "                vc += 1\n",
    "            else:\n",
    "                cc += 1\n",
    "    \n",
    "    return vc, cc   \n",
    "\n",
    "\n",
    "vc, cc = count(\"hello\")\n",
    "print(\"Vowels =\", vc)\n",
    "print(\"Consonants =\", cc)\n"
   ]
  },
  {
   "cell_type": "code",
   "execution_count": 28,
   "id": "0002a0ff",
   "metadata": {},
   "outputs": [
    {
     "name": "stdout",
     "output_type": "stream",
     "text": [
      "amazing\n"
     ]
    }
   ],
   "source": [
    "'''\n",
    "5. Longest Word Finder\n",
    "   * Return longest word in a sentence.\n",
    "   * Input: \"Python is amazing\"\n",
    "   * Output: \"amazing\"\n",
    "'''\n",
    "def longest(s):\n",
    "    return max(s.split(),key=len)\n",
    "print(longest(\"Python is amazing\"))"
   ]
  },
  {
   "cell_type": "code",
   "execution_count": null,
   "id": "2230254a",
   "metadata": {},
   "outputs": [
    {
     "name": "stdout",
     "output_type": "stream",
     "text": [
      "_q[z/k\n"
     ]
    }
   ],
   "source": [
    "'''\n",
    "6.Random Password Generator (`random`, `string`)\n",
    "   * Input: length=6\n",
    "   * Output: \"aB9@xQ\"\n",
    "'''\n",
    "import random\n",
    "import string\n",
    "def pass_generator(length=n):\n",
    "    characters = string.ascii_letters + string.digits + string.punctuation\n",
    "    \n",
    "    password = ''.join(random.choice(characters) for _ in range(length))\n",
    "    return password\n",
    "print(pass_generator(6))\n"
   ]
  },
  {
   "cell_type": "code",
   "execution_count": null,
   "id": "d8d54803",
   "metadata": {},
   "outputs": [],
   "source": []
  }
 ],
 "metadata": {
  "kernelspec": {
   "display_name": "Python 3",
   "language": "python",
   "name": "python3"
  },
  "language_info": {
   "codemirror_mode": {
    "name": "ipython",
    "version": 3
   },
   "file_extension": ".py",
   "mimetype": "text/x-python",
   "name": "python",
   "nbconvert_exporter": "python",
   "pygments_lexer": "ipython3",
   "version": "3.11.13"
  }
 },
 "nbformat": 4,
 "nbformat_minor": 5
}
