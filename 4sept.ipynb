{
 "cells": [
  {
   "cell_type": "code",
   "execution_count": 1,
   "id": "2a248212",
   "metadata": {},
   "outputs": [
    {
     "name": "stdout",
     "output_type": "stream",
     "text": [
      "2 3 5 7 11 13 17 19 23 29 31 37 41 43 47 53 59 61 67 71 73 79 83 89 97 "
     ]
    }
   ],
   "source": [
    "''' \n",
    "A mathematics quiz app generates all prime numbers between 1 and 100. \n",
    "Write a program to print all prime numbers in this range.\n",
    "'''\n",
    "for num in range(2, 101):\n",
    "    for i in range(2, int(num ** 0.5) + 1):\n",
    "        if num % i == 0:\n",
    "            break\n",
    "    else:\n",
    "        print(num, end=\" \")\n"
   ]
  },
  {
   "cell_type": "code",
   "execution_count": 2,
   "id": "c32aa680",
   "metadata": {},
   "outputs": [
    {
     "name": "stdout",
     "output_type": "stream",
     "text": [
      "11\n"
     ]
    }
   ],
   "source": [
    "''' \n",
    "An online editor counts words in an article but doesn’t allow using split(). \n",
    "Write a program to count the number of words in a sentence.\n",
    "'''\n",
    "text=input(\"Enter a sentence : \")\n",
    "count=0\n",
    "for ch in text:\n",
    "    count+=1\n",
    "print(count)\n"
   ]
  },
  {
   "cell_type": "code",
   "execution_count": 3,
   "id": "6cb12dfa",
   "metadata": {},
   "outputs": [
    {
     "name": "stdout",
     "output_type": "stream",
     "text": [
      "Final ticket price: 360.0\n"
     ]
    }
   ],
   "source": [
    "'''  \n",
    "Movie Ticket Discount A cinema gives a 20% discount if the customer is a student and 10% discount if the customer is a senior citizen (age ≥ 60).\n",
    "Write a program that takes ticket price, age, and student status (yes/no) as input and prints the final ticket price.\n",
    "'''\n",
    "price = float(input(\"Enter ticket price: \"))\n",
    "age = int(input(\"Enter age: \"))\n",
    "student = input(\"Are you a student? (yes/no): \").lower()\n",
    "\n",
    "if student == \"yes\":\n",
    "    price *= 0.8\n",
    "elif age >= 60:\n",
    "    price *= 0.9\n",
    "\n",
    "print(\"Final ticket price:\", price)\n",
    "\n"
   ]
  },
  {
   "cell_type": "code",
   "execution_count": 5,
   "id": "79f66687",
   "metadata": {},
   "outputs": [
    {
     "name": "stdout",
     "output_type": "stream",
     "text": [
      "Total :  505.0\n"
     ]
    }
   ],
   "source": [
    "'''  \n",
    "An e-commerce website gives free delivery if the total cart value is more than ₹500. Otherwise, a delivery charge of ₹50 is applied. \n",
    "Write a program that takes the cart total as input and prints the final amount payable.\n",
    "'''\n",
    "cart=float(input(\"Enter the cart total : \"))\n",
    "if cart >500 :\n",
    "    print(\"Total : \" , cart)\n",
    "else:\n",
    "    print(\"Total : \",cart+50)"
   ]
  },
  {
   "cell_type": "code",
   "execution_count": null,
   "id": "773ed5af",
   "metadata": {},
   "outputs": [
    {
     "name": "stdout",
     "output_type": "stream",
     "text": [
      "Grade: A\n"
     ]
    }
   ],
   "source": [
    "'''\n",
    "Marks Grading System \n",
    "A college follows this grading system: \n",
    "90 - 100: A\n",
    "75 - 89: B\n",
    "50 - 74: C\n",
    "Below 50: Fail\n",
    "Write a program that takes marks as input and prints the grade.\n",
    "'''\n",
    "marks = int(input(\"Enter marks: \"))\n",
    "if 90 <= marks <= 100:\n",
    "    grade = \"A\"\n",
    "elif 75 <= marks < 90:\n",
    "    grade = \"B\"\n",
    "elif 50 <= marks < 75:\n",
    "    grade = \"C\"\n",
    "else:\n",
    "    grade = \"Fail\"\n",
    "print(\"Grade:\", grade)\n"
   ]
  },
  {
   "cell_type": "code",
   "execution_count": 7,
   "id": "6637ecd1",
   "metadata": {},
   "outputs": [
    {
     "name": "stdout",
     "output_type": "stream",
     "text": [
      "Tip: 100.0\n"
     ]
    }
   ],
   "source": [
    "''' \n",
    "Restaurant Tip Calculator\n",
    "A restaurant suggests tips based on the bill: \n",
    "Less than 500 → 5% tip \n",
    "500 - 1000 → 10% tip \n",
    "More than 1000 → 15% tip \n",
    "Write a program that takes the bill amount and prints the tip to be added.\n",
    "'''\n",
    "bill = float(input(\"Enter bill amount: \"))\n",
    "if bill < 500:\n",
    "    tip = bill * 0.05\n",
    "elif bill <= 1000:\n",
    "    tip = bill * 0.10\n",
    "else:\n",
    "    tip = bill * 0.15\n",
    "print(\"Tip:\", tip)\n"
   ]
  },
  {
   "cell_type": "code",
   "execution_count": null,
   "id": "6c20d849",
   "metadata": {},
   "outputs": [
    {
     "name": "stdout",
     "output_type": "stream",
     "text": [
      "Cheapest option: 3500\n"
     ]
    }
   ],
   "source": [
    "'''\n",
    "Gym Membership Plan A gym charges:\n",
    "₹500 per month \n",
    "₹2700 for 6 months (discounted) \n",
    "₹5000 for 12 months (discounted) \n",
    "Write a program where the user enters the membership period (months) and the program prints the cheapest option.\n",
    "'''\n",
    "months = int(input(\"Enter membership period (in months): \"))\n",
    "cost_monthly = months * 500\n",
    "cost_6 = ((months + 5) // 6) * 2700\n",
    "cost_12 = ((months + 11) // 12) * 5000\n",
    "print(\"Cheapest option:\", min(cost_monthly, cost_6, cost_12))\n"
   ]
  },
  {
   "cell_type": "code",
   "execution_count": 9,
   "id": "f147ebe9",
   "metadata": {},
   "outputs": [
    {
     "name": "stdout",
     "output_type": "stream",
     "text": [
      "Eligible\n"
     ]
    }
   ],
   "source": [
    "''' \n",
    "A student must have at least 75% attendance to sit for the exam. \n",
    "Write a program that takes total classes and classes attended as input and prints whether the student is eligible or not eligible.\n",
    "'''\n",
    "total=int(input(\"Enter total classes : \"))\n",
    "attended = int(input(\"Enter classes attended : \"))\n",
    "attendance = (attended/total)*100\n",
    "if attendance >=75:\n",
    "    print(\"Eligible\")\n",
    "else:\n",
    "    print(\"Not Eligible\")"
   ]
  },
  {
   "cell_type": "code",
   "execution_count": 11,
   "id": "0f107c15",
   "metadata": {},
   "outputs": [
    {
     "name": "stdout",
     "output_type": "stream",
     "text": [
      "Transaction is not successful\n"
     ]
    }
   ],
   "source": [
    "'''\n",
    "ATM Withdrawal \n",
    "An ATM only allows withdrawals in multiples of 100.\n",
    "Write a program that takes the withdrawal amount and prints whether the transaction is successful or failed.\n",
    "'''\n",
    "amount = int(input(\"Enter Amount :\"))\n",
    "if amount%100 == 0:\n",
    "    print(\"Transaction is successful\")\n",
    "else:\n",
    "    print(\"Transaction is not successful\")"
   ]
  },
  {
   "cell_type": "code",
   "execution_count": 15,
   "id": "f796d312",
   "metadata": {},
   "outputs": [
    {
     "name": "stdout",
     "output_type": "stream",
     "text": [
      "Too hot, stay indoors!\n"
     ]
    }
   ],
   "source": [
    "''' \n",
    "Weather Suggestion \n",
    "Write a program that takes the temperature as input and gives a suggestion:\n",
    "35 → \"Too hot, stay indoors!\" \n",
    "20 - 35 → \"Nice weather, go out!\" \n",
    "< 20 → \"It's cold, wear warm clothes!\" \n",
    "'''\n",
    "temp=float(input(\"Enter the temperature : \"))\n",
    "if temp>=35 :\n",
    "    print(\"Too hot, stay indoors!\")\n",
    "elif temp>=20 and temp<35  :\n",
    "    print(\"Nice weather, go out!\")\n",
    "elif temp<20:\n",
    "    print(\"It's cold, wear warm clothes!\")"
   ]
  },
  {
   "cell_type": "code",
   "execution_count": 16,
   "id": "12fdb747",
   "metadata": {},
   "outputs": [
    {
     "name": "stdout",
     "output_type": "stream",
     "text": [
      "Fine 50\n"
     ]
    }
   ],
   "source": [
    "'''\n",
    "Library Fine \n",
    "A library charges a fine for late book returns:\n",
    "1 - 5 days → ₹10\n",
    "6 - 10 days → ₹50 \n",
    "10 days → ₹100 \n",
    "Write a program that takes the number of late days as input and prints the fine amount.\n",
    "'''\n",
    "late=int(input(\"Enter number of late days : \"))\n",
    "if late>=1 and late<6:\n",
    "    print(\"Fine\",10)\n",
    "elif late>=6 and late<10:\n",
    "    print(\"Fine\",50)\n",
    "elif late>=10 :\n",
    "    print(\"Fine\",100)\n"
   ]
  },
  {
   "cell_type": "code",
   "execution_count": 17,
   "id": "b14926bb",
   "metadata": {},
   "outputs": [
    {
     "name": "stdout",
     "output_type": "stream",
     "text": [
      "Bill amount: 1700\n"
     ]
    }
   ],
   "source": [
    "'''\n",
    "Electricity Bill Calculator \n",
    "An electricity board charges: \n",
    "First 100 units → ₹5 per unit \n",
    "Next 100 units (101–200) → ₹7 per unit \n",
    "Above 200 units → ₹10 per unit \n",
    "Write a program that takes units consumed as input and prints the bill amount.\n",
    "'''\n",
    "units = int(input(\"Enter units consumed: \"))\n",
    "if units <= 100:\n",
    "    bill = units * 5\n",
    "elif units <= 200:\n",
    "    bill = 100 * 5 + (units - 100) * 7\n",
    "else:\n",
    "    bill = 100 * 5 + 100 * 7 + (units - 200) * 10\n",
    "print(\"Bill amount:\", bill)\n"
   ]
  },
  {
   "cell_type": "code",
   "execution_count": null,
   "id": "949ccbd2",
   "metadata": {},
   "outputs": [],
   "source": []
  }
 ],
 "metadata": {
  "kernelspec": {
   "display_name": "Python 3",
   "language": "python",
   "name": "python3"
  },
  "language_info": {
   "codemirror_mode": {
    "name": "ipython",
    "version": 3
   },
   "file_extension": ".py",
   "mimetype": "text/x-python",
   "name": "python",
   "nbconvert_exporter": "python",
   "pygments_lexer": "ipython3",
   "version": "3.11.13"
  }
 },
 "nbformat": 4,
 "nbformat_minor": 5
}
